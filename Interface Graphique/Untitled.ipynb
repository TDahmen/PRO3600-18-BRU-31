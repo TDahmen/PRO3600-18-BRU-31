{
 "cells": [
  {
   "cell_type": "code",
   "execution_count": 36,
   "metadata": {
    "collapsed": true
   },
   "outputs": [],
   "source": [
    "import tensorflow as tf\n",
    "import numpy as np"
   ]
  },
  {
   "cell_type": "code",
   "execution_count": 44,
   "metadata": {},
   "outputs": [
    {
     "data": {
      "text/plain": [
       "<tf.Tensor 'strided_slice_4:0' shape=(3, 64) dtype=float32>"
      ]
     },
     "execution_count": 44,
     "metadata": {},
     "output_type": "execute_result"
    }
   ],
   "source": [
    "sess = tf.InteractiveSession()\n",
    "gamesData = tf.convert_to_tensor(np.load('gamesData.npy'), np.float32)\n",
    "gamesData[0:3]"
   ]
  },
  {
   "cell_type": "code",
   "execution_count": 11,
   "metadata": {},
   "outputs": [],
   "source": [
    "X = tf.reshape(gamesData, [-1, 8, 8, 1])"
   ]
  },
  {
   "cell_type": "code",
   "execution_count": 12,
   "metadata": {},
   "outputs": [
    {
     "name": "stdout",
     "output_type": "stream",
     "text": [
      "Tensor(\"Reshape_1:0\", shape=(4207, 8, 8, 1), dtype=float32)\n"
     ]
    }
   ],
   "source": [
    "print(X)"
   ]
  },
  {
   "cell_type": "code",
   "execution_count": 13,
   "metadata": {},
   "outputs": [
    {
     "data": {
      "text/plain": [
       "array([[[[-5. ],\n",
       "         [-3. ],\n",
       "         [-3.5],\n",
       "         ..., \n",
       "         [-3.5],\n",
       "         [-3. ],\n",
       "         [-5. ]],\n",
       "\n",
       "        [[-1. ],\n",
       "         [-1. ],\n",
       "         [-1. ],\n",
       "         ..., \n",
       "         [-1. ],\n",
       "         [-1. ],\n",
       "         [-1. ]],\n",
       "\n",
       "        [[ 0. ],\n",
       "         [ 0. ],\n",
       "         [ 0. ],\n",
       "         ..., \n",
       "         [ 0. ],\n",
       "         [ 0. ],\n",
       "         [ 0. ]],\n",
       "\n",
       "        ..., \n",
       "        [[ 0. ],\n",
       "         [ 0. ],\n",
       "         [ 0. ],\n",
       "         ..., \n",
       "         [ 3. ],\n",
       "         [ 0. ],\n",
       "         [ 0. ]],\n",
       "\n",
       "        [[ 1. ],\n",
       "         [ 1. ],\n",
       "         [ 1. ],\n",
       "         ..., \n",
       "         [ 1. ],\n",
       "         [ 1. ],\n",
       "         [ 1. ]],\n",
       "\n",
       "        [[ 5. ],\n",
       "         [ 3. ],\n",
       "         [ 3.5],\n",
       "         ..., \n",
       "         [ 3.5],\n",
       "         [ 0. ],\n",
       "         [ 5. ]]],\n",
       "\n",
       "\n",
       "       [[[-5. ],\n",
       "         [-3. ],\n",
       "         [-3.5],\n",
       "         ..., \n",
       "         [-3.5],\n",
       "         [ 0. ],\n",
       "         [-5. ]],\n",
       "\n",
       "        [[-1. ],\n",
       "         [-1. ],\n",
       "         [-1. ],\n",
       "         ..., \n",
       "         [-1. ],\n",
       "         [-1. ],\n",
       "         [-1. ]],\n",
       "\n",
       "        [[ 0. ],\n",
       "         [ 0. ],\n",
       "         [ 0. ],\n",
       "         ..., \n",
       "         [-3. ],\n",
       "         [ 0. ],\n",
       "         [ 0. ]],\n",
       "\n",
       "        ..., \n",
       "        [[ 0. ],\n",
       "         [ 0. ],\n",
       "         [ 0. ],\n",
       "         ..., \n",
       "         [ 3. ],\n",
       "         [ 0. ],\n",
       "         [ 0. ]],\n",
       "\n",
       "        [[ 1. ],\n",
       "         [ 1. ],\n",
       "         [ 1. ],\n",
       "         ..., \n",
       "         [ 1. ],\n",
       "         [ 1. ],\n",
       "         [ 1. ]],\n",
       "\n",
       "        [[ 5. ],\n",
       "         [ 3. ],\n",
       "         [ 3.5],\n",
       "         ..., \n",
       "         [ 3.5],\n",
       "         [ 0. ],\n",
       "         [ 5. ]]],\n",
       "\n",
       "\n",
       "       [[[-5. ],\n",
       "         [-3. ],\n",
       "         [-3.5],\n",
       "         ..., \n",
       "         [-3.5],\n",
       "         [ 0. ],\n",
       "         [-5. ]],\n",
       "\n",
       "        [[-1. ],\n",
       "         [-1. ],\n",
       "         [-1. ],\n",
       "         ..., \n",
       "         [-1. ],\n",
       "         [-1. ],\n",
       "         [-1. ]],\n",
       "\n",
       "        [[ 0. ],\n",
       "         [ 0. ],\n",
       "         [ 0. ],\n",
       "         ..., \n",
       "         [-3. ],\n",
       "         [ 0. ],\n",
       "         [ 0. ]],\n",
       "\n",
       "        ..., \n",
       "        [[ 0. ],\n",
       "         [ 0. ],\n",
       "         [ 0. ],\n",
       "         ..., \n",
       "         [ 3. ],\n",
       "         [ 0. ],\n",
       "         [ 0. ]],\n",
       "\n",
       "        [[ 1. ],\n",
       "         [ 1. ],\n",
       "         [ 0. ],\n",
       "         ..., \n",
       "         [ 1. ],\n",
       "         [ 1. ],\n",
       "         [ 1. ]],\n",
       "\n",
       "        [[ 5. ],\n",
       "         [ 3. ],\n",
       "         [ 3.5],\n",
       "         ..., \n",
       "         [ 3.5],\n",
       "         [ 0. ],\n",
       "         [ 5. ]]],\n",
       "\n",
       "\n",
       "       ..., \n",
       "       [[[ 0. ],\n",
       "         [ 0. ],\n",
       "         [ 0. ],\n",
       "         ..., \n",
       "         [ 0. ],\n",
       "         [-5. ],\n",
       "         [ 0. ]],\n",
       "\n",
       "        [[-1. ],\n",
       "         [ 0. ],\n",
       "         [ 0. ],\n",
       "         ..., \n",
       "         [-1. ],\n",
       "         [ 0. ],\n",
       "         [ 0. ]],\n",
       "\n",
       "        [[ 0. ],\n",
       "         [-1. ],\n",
       "         [ 0. ],\n",
       "         ..., \n",
       "         [ 3.5],\n",
       "         [-1. ],\n",
       "         [-1. ]],\n",
       "\n",
       "        ..., \n",
       "        [[ 1. ],\n",
       "         [ 0. ],\n",
       "         [ 1. ],\n",
       "         ..., \n",
       "         [ 5. ],\n",
       "         [ 0. ],\n",
       "         [ 0. ]],\n",
       "\n",
       "        [[ 0. ],\n",
       "         [ 0. ],\n",
       "         [ 0. ],\n",
       "         ..., \n",
       "         [ 0. ],\n",
       "         [ 1. ],\n",
       "         [ 1. ]],\n",
       "\n",
       "        [[ 0. ],\n",
       "         [ 0. ],\n",
       "         [ 0. ],\n",
       "         ..., \n",
       "         [ 0. ],\n",
       "         [ 0. ],\n",
       "         [ 0. ]]],\n",
       "\n",
       "\n",
       "       [[[ 0. ],\n",
       "         [ 0. ],\n",
       "         [ 0. ],\n",
       "         ..., \n",
       "         [ 0. ],\n",
       "         [-5. ],\n",
       "         [ 0. ]],\n",
       "\n",
       "        [[-1. ],\n",
       "         [ 0. ],\n",
       "         [ 0. ],\n",
       "         ..., \n",
       "         [-1. ],\n",
       "         [ 0. ],\n",
       "         [ 0. ]],\n",
       "\n",
       "        [[ 0. ],\n",
       "         [-1. ],\n",
       "         [ 0. ],\n",
       "         ..., \n",
       "         [ 3.5],\n",
       "         [-1. ],\n",
       "         [-1. ]],\n",
       "\n",
       "        ..., \n",
       "        [[ 1. ],\n",
       "         [ 0. ],\n",
       "         [ 1. ],\n",
       "         ..., \n",
       "         [ 5. ],\n",
       "         [ 0. ],\n",
       "         [ 0. ]],\n",
       "\n",
       "        [[ 0. ],\n",
       "         [ 0. ],\n",
       "         [ 0. ],\n",
       "         ..., \n",
       "         [ 0. ],\n",
       "         [ 1. ],\n",
       "         [ 1. ]],\n",
       "\n",
       "        [[ 0. ],\n",
       "         [ 0. ],\n",
       "         [ 0. ],\n",
       "         ..., \n",
       "         [ 0. ],\n",
       "         [ 0. ],\n",
       "         [ 0. ]]],\n",
       "\n",
       "\n",
       "       [[[ 0. ],\n",
       "         [ 0. ],\n",
       "         [ 0. ],\n",
       "         ..., \n",
       "         [ 0. ],\n",
       "         [-5. ],\n",
       "         [ 0. ]],\n",
       "\n",
       "        [[-1. ],\n",
       "         [ 0. ],\n",
       "         [ 0. ],\n",
       "         ..., \n",
       "         [-1. ],\n",
       "         [ 0. ],\n",
       "         [ 0. ]],\n",
       "\n",
       "        [[ 0. ],\n",
       "         [-1. ],\n",
       "         [ 0. ],\n",
       "         ..., \n",
       "         [ 3.5],\n",
       "         [-1. ],\n",
       "         [-1. ]],\n",
       "\n",
       "        ..., \n",
       "        [[ 1. ],\n",
       "         [ 0. ],\n",
       "         [ 1. ],\n",
       "         ..., \n",
       "         [ 5. ],\n",
       "         [ 0. ],\n",
       "         [ 0. ]],\n",
       "\n",
       "        [[ 0. ],\n",
       "         [ 0. ],\n",
       "         [ 0. ],\n",
       "         ..., \n",
       "         [ 0. ],\n",
       "         [ 1. ],\n",
       "         [ 1. ]],\n",
       "\n",
       "        [[ 0. ],\n",
       "         [ 0. ],\n",
       "         [ 0. ],\n",
       "         ..., \n",
       "         [ 0. ],\n",
       "         [ 0. ],\n",
       "         [ 0. ]]]], dtype=float32)"
      ]
     },
     "execution_count": 13,
     "metadata": {},
     "output_type": "execute_result"
    }
   ],
   "source": [
    "sess = tf.InteractiveSession()\n",
    "X.eval()"
   ]
  },
  {
   "cell_type": "code",
   "execution_count": 32,
   "metadata": {
    "collapsed": true
   },
   "outputs": [],
   "source": [
    "oneHot = np.load('oneHotEncoded.npy')\n",
    "games = np.load('gamesData.npy')"
   ]
  },
  {
   "cell_type": "code",
   "execution_count": 33,
   "metadata": {},
   "outputs": [
    {
     "data": {
      "text/plain": [
       "True"
      ]
     },
     "execution_count": 33,
     "metadata": {},
     "output_type": "execute_result"
    }
   ],
   "source": [
    "len(oneHot) == len(games)"
   ]
  },
  {
   "cell_type": "code",
   "execution_count": 34,
   "metadata": {},
   "outputs": [
    {
     "name": "stdout",
     "output_type": "stream",
     "text": [
      "3791\n"
     ]
    }
   ],
   "source": [
    "print(len(oneHot))"
   ]
  },
  {
   "cell_type": "code",
   "execution_count": 35,
   "metadata": {},
   "outputs": [
    {
     "name": "stdout",
     "output_type": "stream",
     "text": [
      "3791\n"
     ]
    }
   ],
   "source": [
    "print(len(games))"
   ]
  },
  {
   "cell_type": "code",
   "execution_count": 45,
   "metadata": {},
   "outputs": [
    {
     "name": "stdout",
     "output_type": "stream",
     "text": [
      "Object `mnist` not found.\n"
     ]
    }
   ],
   "source": [
    "?mnist"
   ]
  },
  {
   "cell_type": "code",
   "execution_count": null,
   "metadata": {
    "collapsed": true
   },
   "outputs": [],
   "source": []
  }
 ],
 "metadata": {
  "kernelspec": {
   "display_name": "Python 3",
   "language": "python",
   "name": "python3"
  },
  "language_info": {
   "codemirror_mode": {
    "name": "ipython",
    "version": 3
   },
   "file_extension": ".py",
   "mimetype": "text/x-python",
   "name": "python",
   "nbconvert_exporter": "python",
   "pygments_lexer": "ipython3",
   "version": "3.6.3"
  }
 },
 "nbformat": 4,
 "nbformat_minor": 2
}
