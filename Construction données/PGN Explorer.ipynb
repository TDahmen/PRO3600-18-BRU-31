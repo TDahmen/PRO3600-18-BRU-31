{
 "cells": [
  {
   "cell_type": "code",
   "execution_count": 1,
   "metadata": {},
   "outputs": [
    {
     "name": "stdout",
     "output_type": "stream",
     "text": [
      "['d2d4', '{', 'book', '}', 'g8f6', '{', 'book', '}', 'c2c4', '{']\n"
     ]
    }
   ],
   "source": [
    "# commande utilisée pour générer le PGN avec pgn-extract :\n",
    "# ./pgn-extract -ogamesShortMoy.pgn -Wlalg --stopafter 100 --nomovenumbers --noresults --notags -M db_1.pgn\n",
    "# https://www.cs.kent.ac.uk/people/staff/djb/pgn-extract/\n",
    "\n",
    "# on parse le fichier pgn (séparation des différentes parties)\n",
    "\n",
    "import itertools\n",
    "import numpy as np\n",
    "\n",
    "listeTotale=[]\n",
    "with open(\"gamesShortShort.pgn\") as f: # ouverture d'un fichier PGN\n",
    "    nGame=0\n",
    "    for line in f:\n",
    "        l = line.split(' ')\n",
    "        for k in range(0,len(l)):\n",
    "            if l[k].endswith('\\n'):\n",
    "                l[k] = l[k].split('\\n', 1)[0]\n",
    "        listeTotale = listeTotale + l\n",
    "print(listeTotale[0:10]) # on imprime un exemple\n"
   ]
  },
  {
   "cell_type": "code",
   "execution_count": 2,
   "metadata": {
    "collapsed": true
   },
   "outputs": [],
   "source": [
    "# on nettoie les données obtenues\n",
    "\n",
    "import itertools\n",
    "import numpy as np\n",
    "\n",
    "tab = np.load('gamesPGNBIG.npy') # on ouvre en fait le tableau précédent. ici il est stocké dans un fichier\n",
    "                                 # car le code précédent a été exécuté sur une machine de calcul haute performance\n",
    "arrayX = []\n",
    "for x in tab:\n",
    "    # à paral.\n",
    "    arrayY = []\n",
    "    for k in range(0,len(x)):\n",
    "        if x[k].endswith('\\n'):\n",
    "            x[k] = x[k].split('\\n', 1)[0]\n",
    "        if '/' in x[k]:\n",
    "            x[k] = x[k].split('/', 1)[0]\n",
    "        if x[k].endswith('+'):\n",
    "            x[k] = x[k].split('+', 1)[0]\n",
    "        if x[k].startswith('+'):\n",
    "            x[k] = x[k].split('+', 1)[1]\n",
    "        if x[k].endswith('#'):\n",
    "            x[k] = x[k].split('#', 1)[0]\n",
    "        if 'M' in x[k]:\n",
    "            if '-' in x[k]:\n",
    "                x[k] = '-100'\n",
    "            else:\n",
    "                x[k] = '100'\n",
    "        if x[k] != '{' and x[k] != '}' and x[k] != '' and not(x[k].endswith('s')) and not(x[k].endswith('s,')): # enlève aussi 'mates'\n",
    "            arrayY.append(x[k])\n",
    "    arrayX.append(arrayY)"
   ]
  },
  {
   "cell_type": "code",
   "execution_count": 4,
   "metadata": {},
   "outputs": [
    {
     "name": "stdout",
     "output_type": "stream",
     "text": [
      "['d2d4', 'g8f6', 'c2c4', 'e7e6', 'g1f3', 'd7d5', 'b1c3', 'd5c4', 'd1a4', 'c7c6', 'a4c4', 'b7b5', 'c4b3', 'b8d7', 'c1g5', 'd8a5', 'e2e3', 'a7a6', 'f1e2', 'c6c5', 'e1g1', 'c8b7', 'f1d1', 'h7h6', 'g5f4', 'f8e7', 'a2a3', 'a8c8', 'f3e5', 'd7e5', 'd4e5', 'f6d7', 'b3c2', 'a5c7', 'c3e4', 'b7e4', 'c2e4', 'c5c4', 'a1b1', 'd7c5', 'e4f3', 'e8g8', 'f3g3', 'g8h8', 'g3f3', 'f8d8', 'd1d4', 'c5b3', 'd4d8', 'c8d8', 'f3h5', 'h8g8', 'h5g4', 'g8h8', 'a3a4', 'c7a5', 'g4h5', 'h8g8', 'h5g4', 'g8f8', 'a4b5', 'a6b5', 'f4g3', 'a5a2', 'b1d1', 'd8d1', 'e2d1', 'a2b2', 'f2f4', 'e7c5', 'g3f2', 'c4c3', 'g4f3', 'f8g8', 'f2e1', 'c3c2', 'f3a8', 'c5f8', 'd1c2', 'b2c2', 'e1b4', 'b3c5', 'b4c5', 'c2c5', 'a8e4', 'c5c1', 'g1f2', 'c1d2', 'f2f3', 'f8c5', 'h2h4', 'h6h5', 'g2g4', 'd2d1', 'f3f2', 'd1g4', 'e4a8', 'g8h7', 'a8e4', 'h7h6', 'e4a8', 'g4f4', 'f2e1', 'f4b4', 'e1f2', 'b4d2', 'f2f1', 'd2e3', 'a8a2', 'e3g1', 'f1e2', 'g1f2', 'e2d3', 'f2a2', 'd3c3', 'c5e3', 'c3b4', 'a2c4', 'b4a3', 'e3c1']\n",
      "[0.0, 0.0, 0.0, 0.0, 0.0, 0.0, 0.0, 0.0, 0.0, 0.0, 0.0, 0.0, 0.0, 0.0, 0.0, 0.0, 0.57, 0.02, -0.05, -0.01, -0.01, 0.03, 0.15, -0.05, 0.19, 0.02, 0.16, 0.01, -0.2, 0.24, -0.1, 0.45, -0.41, 1.03, -0.47, 0.44, -0.56, 0.46, -0.49, 0.54, -0.59, 0.64, -0.78, 0.49, -1.05, 0.88, -1.04, 1.26, -0.95, 1.37, -0.99, 1.39, -1.37, 1.06, -1.24, 1.9, -2.34, 2.6, -2.12, 2.25, -2.4, 2.39, -2.72, 2.92, -2.88, 3.28, -3.46, 3.67, -3.33, 3.86, -3.54, 4.97, -4.71, 5.5, -5.58, 5.8, -5.37, 6.38, -5.88, 6.34, -6.48, 6.68, -6.84, 6.91, -6.55, 7.01, -6.55, 7.05, -7.13, 7.18, -7.35, 7.38, -7.38, 7.36, -7.38, 7.43, -7.43, 7.74, -7.72, 8.1, -8.11, 9.48, -8.17, 12.17, -13.58, 14.52, -15.22, 100.0, -100.0, 100.0, -100.0, 100.0, -100.0, 100.0, -100.0, 100.0, -100.0, 100.0, -100.0, 100.0]\n"
     ]
    }
   ],
   "source": [
    "# on génère deux jeux de données propres : les parties et leurs évaluations\n",
    "\n",
    "gamesCoups = []\n",
    "gamesLabels = []\n",
    "for i in range(0,len(arrayX)):\n",
    "    coups = []\n",
    "    evaluations = []\n",
    "    for j in range(0,len(arrayX[i])):\n",
    "        if j % 2 == 0:\n",
    "            coups.append(arrayX[i][j])\n",
    "        if j % 2 == 1:\n",
    "            if arrayX[i][j] == 'book':\n",
    "                arrayX[i][j] = '0'\n",
    "            evaluations.append(float(arrayX[i][j]))\n",
    "    gamesCoups.append(coups)\n",
    "    gamesLabels.append(evaluations)\n",
    "print(gamesCoups[0])\n",
    "print(gamesLabels[0])"
   ]
  },
  {
   "cell_type": "code",
   "execution_count": 5,
   "metadata": {
    "collapsed": true
   },
   "outputs": [],
   "source": [
    "# comme les évaluations sont calculées pour les deux joueurs depuis leurs points de vue, on fait en sorte\n",
    "# de tout voir du point de vue des blancs\n",
    "\n",
    "for i in range(0,len(gamesLabels)):\n",
    "    for j in range(0, len(gamesLabels[i])):\n",
    "        if j % 2 == 1 and gamesLabels[i][j] != 0.0:\n",
    "            gamesLabels[i][j] = -gamesLabels[i][j]\n"
   ]
  },
  {
   "cell_type": "code",
   "execution_count": 6,
   "metadata": {
    "collapsed": true
   },
   "outputs": [],
   "source": [
    "# on enregistre enfin les beaux fichiers de données dans des tableaux Numpy\n",
    "\n",
    "gamesCoupsNumpy = np.asarray(gamesCoups)\n",
    "np.save('gamesCoups.npy', gamesCoupsNumpy)\n",
    "\n",
    "rawLabels = []\n",
    "\n",
    "for i in range(0,len(gamesLabels)):\n",
    "    for j in range(0, len(gamesLabels[i])):\n",
    "        rawLabels.append(gamesLabels[i][j])\n",
    "\n",
    "rawLabelsNumpy = np.asarray(rawLabels)\n",
    "np.save('rawLabels.npy', rawLabelsNumpy)"
   ]
  },
  {
   "cell_type": "code",
   "execution_count": 7,
   "metadata": {},
   "outputs": [
    {
     "name": "stdout",
     "output_type": "stream",
     "text": [
      "30001\n"
     ]
    }
   ],
   "source": [
    "print(len(gamesCoupsNumpy))"
   ]
  },
  {
   "cell_type": "code",
   "execution_count": null,
   "metadata": {
    "collapsed": true
   },
   "outputs": [],
   "source": []
  }
 ],
 "metadata": {
  "kernelspec": {
   "display_name": "Python 3",
   "language": "python",
   "name": "python3"
  },
  "language_info": {
   "codemirror_mode": {
    "name": "ipython",
    "version": 3
   },
   "file_extension": ".py",
   "mimetype": "text/x-python",
   "name": "python",
   "nbconvert_exporter": "python",
   "pygments_lexer": "ipython3",
   "version": "3.6.3"
  }
 },
 "nbformat": 4,
 "nbformat_minor": 2
}
