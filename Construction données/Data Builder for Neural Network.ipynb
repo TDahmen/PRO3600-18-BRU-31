{
 "cells": [
  {
   "cell_type": "code",
   "execution_count": null,
   "metadata": {
    "collapsed": true
   },
   "outputs": [],
   "source": [
    "import numpy as np\n",
    "\n",
    "games = np.load('gamesCoups.npy')\n",
    "labels = np.load('rawLabels.npy')"
   ]
  },
  {
   "cell_type": "code",
   "execution_count": null,
   "metadata": {
    "collapsed": true
   },
   "outputs": [],
   "source": [
    "# scripts de conversion des parties notées en Long Algebraic Form en véritable tableau de jeu\n",
    "\n",
    "def createBoard():\n",
    "    plateau = np.zeros([8,8])\n",
    "\n",
    "    # On ajoute les pions (valeur : 1)\n",
    "\n",
    "    for j in range (0,8):\n",
    "        plateau[1][j] = -1\n",
    "        plateau[6][j] = 1\n",
    "\n",
    "    # On ajoute les tours (valeur : 4)\n",
    "\n",
    "    plateau[7][0] = 5\n",
    "    plateau[0][0] = -5\n",
    "    plateau[0][7] = -5\n",
    "    plateau[7][7] = 5\n",
    "\n",
    "    # On ajoute les cavaliers (valeur : 2)\n",
    "\n",
    "    plateau[7][1] = 3\n",
    "    plateau[0][6] = -3\n",
    "    plateau[0][1] = -3\n",
    "    plateau[7][6] = 3\n",
    "\n",
    "    # On ajoute les fous (valeur : 3)\n",
    "\n",
    "    plateau[7][2] = 3.5\n",
    "    plateau[0][2] = -3.5\n",
    "    plateau[7][5] = 3.5\n",
    "    plateau[0][5] = -3.5\n",
    "\n",
    "    # On ajoute les reines (valeur : 5)\n",
    "\n",
    "    plateau[7][3] = 9\n",
    "    plateau[0][3] = -9\n",
    "\n",
    "    # On ajoute les rois (valeur : 6)\n",
    "\n",
    "    plateau[7][4] = 0\n",
    "    plateau[0][4] = -0\n",
    "\n",
    "    return plateau\n",
    "\n",
    "def string_converter(a):\n",
    "    if (a=='a'):\n",
    "        res=0\n",
    "    if (a=='b'):\n",
    "        res=1\n",
    "    if (a=='c'):\n",
    "        res=2\n",
    "    if (a=='d'):\n",
    "        res=3\n",
    "    if (a=='e'):\n",
    "        res=4\n",
    "    if (a=='f'):\n",
    "        res=5\n",
    "    if (a=='g'):\n",
    "        res=6\n",
    "    if (a=='h'):\n",
    "        res=7\n",
    "    return res\n",
    "\n",
    "def converter(str):\n",
    "    a=string_converter(str[0])\n",
    "    b=8-int(str[1])\n",
    "    c=string_converter(str[2])\n",
    "    d=8-int(str[3])\n",
    "    return (b,a,d,c)\n",
    "\n",
    "def move(str,plateau):\n",
    "    if (str=='e1g1'):\n",
    "        plateau[7][6]=plateau[7][4]\n",
    "        plateau[7][4]=0\n",
    "        plateau[7][5]=plateau[7][7]\n",
    "        plateau[7][7]=0\n",
    "    if (str=='e1c1'):\n",
    "        plateau[7][2]=plateau[7][4]\n",
    "        plateau[7][4]=0\n",
    "        plateau[7][3]=plateau[7][0]\n",
    "        plateau[7][0]=0\n",
    "    if (str=='e8g8'):\n",
    "        plateau[0][6]=plateau[0][4]\n",
    "        plateau[0][4]=0\n",
    "        plateau[0][5]=plateau[0][7]\n",
    "        plateau[0][7]=0\n",
    "    if (str=='e8c8'):\n",
    "        plateau[0][2]=plateau[0][4]\n",
    "        plateau[0][4]=0\n",
    "        plateau[0][3]=plateau[0][0]\n",
    "        plateau[0][0]=0\n",
    "    a,b,c,d=converter(str)\n",
    "    plateau[c][d]=plateau[a][b]\n",
    "    plateau[a][b] = 0"
   ]
  },
  {
   "cell_type": "code",
   "execution_count": null,
   "metadata": {
    "collapsed": true
   },
   "outputs": [],
   "source": [
    "# Remplacement des notations algébriques par des véritables plateaux de jeu\n",
    "\n",
    "gamesData = []\n",
    "for game in games:\n",
    "    plateau = createBoard()\n",
    "    for pos in game:\n",
    "        tabPos = []\n",
    "        move(pos, plateau)\n",
    "        for x in plateau:\n",
    "            for y in x:\n",
    "                tabPos.append(y)\n",
    "        gamesData.append(tabPos)\n",
    "\n",
    "\n",
    "                \n",
    "                \n",
    "                \n",
    "                "
   ]
  },
  {
   "cell_type": "code",
   "execution_count": 4,
   "metadata": {
    "collapsed": true
   },
   "outputs": [],
   "source": [
    "# on enlève tous les labels évalués à 0\n",
    "\n",
    "cleanedLabels = []\n",
    "movesIndex = []\n",
    "for p in range(0,len(labels)):\n",
    "    if labels[p] != 0:\n",
    "        cleanedLabels.append(labels[p])\n",
    "    if labels[p] == 0:\n",
    "        movesIndex.append(p)\n",
    "    "
   ]
  },
  {
   "cell_type": "code",
   "execution_count": 5,
   "metadata": {
    "collapsed": true
   },
   "outputs": [],
   "source": [
    "npArrayLabels = np.asarray(cleanedLabels)\n",
    "np.save('cleanedLabels.npy', npArrayLabels)"
   ]
  },
  {
   "cell_type": "code",
   "execution_count": null,
   "metadata": {
    "collapsed": true
   },
   "outputs": [],
   "source": [
    "# on enlève tous les coups évalués à 0\n",
    "\n",
    "cleanedGamesData = []\n",
    "for r in range(0,len(gamesData)):\n",
    "    if not(r in movesIndex):\n",
    "        cleanedGamesData.append(gamesData[r])"
   ]
  },
  {
   "cell_type": "code",
   "execution_count": 35,
   "metadata": {},
   "outputs": [
    {
     "name": "stdout",
     "output_type": "stream",
     "text": [
      "True\n"
     ]
    }
   ],
   "source": [
    "print(len(cleanedGamesData) == len(cleanedLabels))"
   ]
  },
  {
   "cell_type": "code",
   "execution_count": 36,
   "metadata": {
    "collapsed": true
   },
   "outputs": [],
   "source": [
    "npArray = np.asarray(cleanedGamesData)\n",
    "np.save('newGamesData.npy', npArray)"
   ]
  },
  {
   "cell_type": "code",
   "execution_count": 7,
   "metadata": {},
   "outputs": [
    {
     "name": "stdout",
     "output_type": "stream",
     "text": [
      "[ 0.57 -0.02 -0.05  0.01 -0.01 -0.03  0.15  0.05  0.19 -0.02]\n"
     ]
    }
   ],
   "source": [
    "print(npArrayLabels[0:10])"
   ]
  },
  {
   "cell_type": "code",
   "execution_count": 9,
   "metadata": {
    "collapsed": true
   },
   "outputs": [],
   "source": [
    "# onehot encoding\n",
    "\n",
    "oneHotEncoded = []\n",
    "\n",
    "for x in cleanedLabels:\n",
    "    encoded = [0, 0, 0, 0, 0, 0]\n",
    "    if x <= -1.5:\n",
    "        encoded[0] = 1\n",
    "    if x > -1.5 and x <= -0.5:\n",
    "        encoded[1] = 1\n",
    "    if x > -0.5 and x <= 0:\n",
    "        encoded[2] = 1\n",
    "    if x > 0 and x <= 0.5:\n",
    "        encoded[3] = 1\n",
    "    if x > 0.5 and x <= 1.5:\n",
    "        encoded[4] = 1\n",
    "    if x > 1.5:\n",
    "        encoded[5] = 1\n",
    "    oneHotEncoded.append(encoded)\n",
    "        "
   ]
  },
  {
   "cell_type": "code",
   "execution_count": 10,
   "metadata": {},
   "outputs": [
    {
     "name": "stdout",
     "output_type": "stream",
     "text": [
      "[[0, 0, 0, 0, 1, 0], [0, 0, 1, 0, 0, 0], [0, 0, 1, 0, 0, 0], [0, 0, 0, 1, 0, 0], [0, 0, 1, 0, 0, 0], [0, 0, 1, 0, 0, 0], [0, 0, 0, 1, 0, 0], [0, 0, 0, 1, 0, 0], [0, 0, 0, 1, 0, 0], [0, 0, 1, 0, 0, 0]]\n"
     ]
    }
   ],
   "source": [
    "print(oneHotEncoded[0:10])"
   ]
  },
  {
   "cell_type": "code",
   "execution_count": 11,
   "metadata": {
    "collapsed": true
   },
   "outputs": [],
   "source": [
    "npArrayOneHot = np.asarray(oneHotEncoded)\n",
    "np.save('newOneHotEncoded.npy', npArrayOneHot)"
   ]
  },
  {
   "cell_type": "code",
   "execution_count": 13,
   "metadata": {},
   "outputs": [
    {
     "name": "stdout",
     "output_type": "stream",
     "text": [
      "572617\n"
     ]
    }
   ],
   "source": [
    "print(len(oneHotEncoded))"
   ]
  },
  {
   "cell_type": "code",
   "execution_count": 11,
   "metadata": {},
   "outputs": [
    {
     "name": "stdout",
     "output_type": "stream",
     "text": [
      "[[0 1 0 0 0 0]\n",
      " [0 0 1 0 0 0]\n",
      " [0 0 1 0 0 0]]\n"
     ]
    }
   ],
   "source": [
    "import numpy as np\n",
    "tab = np.load(\"newOneHotEncoded.npy\")\n",
    "print(tab[20:23])"
   ]
  },
  {
   "cell_type": "code",
   "execution_count": 10,
   "metadata": {},
   "outputs": [
    {
     "name": "stdout",
     "output_type": "stream",
     "text": [
      "[[-5.   0.  -3.5  0.   0.  -3.5  0.  -5.  -1.   0.   0.  -3.   0.  -1.  -1.\n",
      "  -1.   0.   0.  -1.   0.  -1.  -3.   0.   0.  -9.  -1.   0.   0.   0.   0.\n",
      "   3.5  0.   0.   0.   0.   1.   0.   0.   0.   0.   0.   9.   3.   0.   1.\n",
      "   3.   0.   0.   1.   1.   0.   0.   0.   1.   1.   1.   5.   0.   0.   0.\n",
      "   0.   3.5  0.   5. ]]\n"
     ]
    }
   ],
   "source": [
    "import numpy as np\n",
    "tab = np.load(\"newGamesData.npy\")\n",
    "print(tab[0:1])"
   ]
  },
  {
   "cell_type": "code",
   "execution_count": null,
   "metadata": {
    "collapsed": true
   },
   "outputs": [],
   "source": []
  }
 ],
 "metadata": {
  "kernelspec": {
   "display_name": "Python 3",
   "language": "python",
   "name": "python3"
  },
  "language_info": {
   "codemirror_mode": {
    "name": "ipython",
    "version": 3
   },
   "file_extension": ".py",
   "mimetype": "text/x-python",
   "name": "python",
   "nbconvert_exporter": "python",
   "pygments_lexer": "ipython3",
   "version": "3.6.3"
  }
 },
 "nbformat": 4,
 "nbformat_minor": 2
}
